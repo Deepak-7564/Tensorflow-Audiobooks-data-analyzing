{
 "cells": [
  {
   "cell_type": "markdown",
   "metadata": {},
   "source": [
    "## Loading the preprocess data from npz file"
   ]
  },
  {
   "cell_type": "code",
   "execution_count": 1,
   "metadata": {
    "scrolled": true
   },
   "outputs": [],
   "source": [
    "import numpy as np\n",
    "import tensorflow as tf"
   ]
  },
  {
   "cell_type": "code",
   "execution_count": 2,
   "metadata": {},
   "outputs": [],
   "source": [
    "\n",
    "npz = np.load('Audiobooks_data_train.npz')\n",
    "\n",
    "train_inputs = npz['inputs'].astype(np.float)\n",
    "train_targets = npz['targets'].astype(np.int)\n",
    "\n",
    "npz = np.load('Audiobooks_data_validation.npz')\n",
    "validation_inputs, validation_targets = npz['inputs'].astype(np.float), npz['targets'].astype(np.int)\n",
    "\n",
    "npz = np.load('Audiobooks_data_test.npz')\n",
    "test_inputs, test_targets = npz['inputs'].astype(np.float), npz['targets'].astype(np.int)"
   ]
  },
  {
   "cell_type": "markdown",
   "metadata": {},
   "source": [
    "## Machine Learning model :-"
   ]
  },
  {
   "cell_type": "code",
   "execution_count": 3,
   "metadata": {},
   "outputs": [
    {
     "name": "stdout",
     "output_type": "stream",
     "text": [
      "Epoch 1/100\n",
      "36/36 - 1s - loss: 0.5527 - accuracy: 0.7611 - val_loss: 0.4356 - val_accuracy: 0.8479\n",
      "Epoch 2/100\n",
      "36/36 - 0s - loss: 0.3818 - accuracy: 0.8740 - val_loss: 0.3488 - val_accuracy: 0.8591\n",
      "Epoch 3/100\n",
      "36/36 - 0s - loss: 0.3292 - accuracy: 0.8807 - val_loss: 0.3258 - val_accuracy: 0.8658\n",
      "Epoch 4/100\n",
      "36/36 - 0s - loss: 0.3040 - accuracy: 0.8891 - val_loss: 0.3119 - val_accuracy: 0.8680\n",
      "Epoch 5/100\n",
      "36/36 - 0s - loss: 0.2863 - accuracy: 0.8944 - val_loss: 0.3052 - val_accuracy: 0.8658\n",
      "Epoch 6/100\n",
      "36/36 - 0s - loss: 0.2733 - accuracy: 0.9000 - val_loss: 0.2993 - val_accuracy: 0.8747\n",
      "Epoch 7/100\n",
      "36/36 - 0s - loss: 0.2655 - accuracy: 0.9011 - val_loss: 0.2944 - val_accuracy: 0.8814\n",
      "Epoch 8/100\n",
      "36/36 - 0s - loss: 0.2564 - accuracy: 0.9016 - val_loss: 0.2901 - val_accuracy: 0.8814\n",
      "Epoch 9/100\n",
      "36/36 - 0s - loss: 0.2524 - accuracy: 0.9039 - val_loss: 0.2878 - val_accuracy: 0.8814\n",
      "Epoch 10/100\n",
      "36/36 - 0s - loss: 0.2489 - accuracy: 0.9067 - val_loss: 0.2862 - val_accuracy: 0.8837\n",
      "Epoch 11/100\n",
      "36/36 - 0s - loss: 0.2459 - accuracy: 0.9084 - val_loss: 0.2925 - val_accuracy: 0.8859\n",
      "Epoch 12/100\n",
      "36/36 - 0s - loss: 0.2443 - accuracy: 0.9064 - val_loss: 0.2828 - val_accuracy: 0.8837\n",
      "Epoch 13/100\n",
      "36/36 - 0s - loss: 0.2411 - accuracy: 0.9081 - val_loss: 0.2844 - val_accuracy: 0.8837\n",
      "Epoch 14/100\n",
      "36/36 - 0s - loss: 0.2382 - accuracy: 0.9100 - val_loss: 0.2769 - val_accuracy: 0.8881\n",
      "Epoch 15/100\n",
      "36/36 - 0s - loss: 0.2367 - accuracy: 0.9120 - val_loss: 0.2816 - val_accuracy: 0.8837\n",
      "Epoch 16/100\n",
      "36/36 - 0s - loss: 0.2344 - accuracy: 0.9106 - val_loss: 0.2744 - val_accuracy: 0.8926\n",
      "Epoch 17/100\n",
      "36/36 - 0s - loss: 0.2315 - accuracy: 0.9128 - val_loss: 0.2756 - val_accuracy: 0.8926\n",
      "Epoch 18/100\n",
      "36/36 - 0s - loss: 0.2312 - accuracy: 0.9142 - val_loss: 0.2752 - val_accuracy: 0.8949\n"
     ]
    },
    {
     "data": {
      "text/plain": [
       "<tensorflow.python.keras.callbacks.History at 0x228a18f5278>"
      ]
     },
     "execution_count": 3,
     "metadata": {},
     "output_type": "execute_result"
    }
   ],
   "source": [
    "input_size = 10\n",
    "output_size = 2\n",
    "hidden_layer_size = 50\n",
    "    \n",
    "model = tf.keras.Sequential([\n",
    "    tf.keras.layers.Dense(hidden_layer_size, activation='relu'),\n",
    "    tf.keras.layers.Dense(hidden_layer_size, activation='relu'),\n",
    "    tf.keras.layers.Dense(output_size, activation='softmax') \n",
    "])\n",
    "\n",
    "\n",
    "\n",
    "model.compile(optimizer='adam', loss='sparse_categorical_crossentropy', metrics=['accuracy'])\n",
    "\n",
    "batch_size = 100\n",
    "max_epochs = 100\n",
    "\n",
    "early_stopping = tf.keras.callbacks.EarlyStopping(patience=2)\n",
    "\n",
    "model.fit(train_inputs,\n",
    "          train_targets, \n",
    "          batch_size=batch_size, \n",
    "          epochs=max_epochs,\n",
    "          callbacks=[early_stopping], \n",
    "          validation_data=(validation_inputs, validation_targets),\n",
    "          verbose = 2\n",
    "          )  "
   ]
  },
  {
   "cell_type": "markdown",
   "metadata": {},
   "source": [
    "## Testing the model with the testing data"
   ]
  },
  {
   "cell_type": "code",
   "execution_count": 4,
   "metadata": {},
   "outputs": [
    {
     "name": "stdout",
     "output_type": "stream",
     "text": [
      "14/14 [==============================] - 0s 2ms/step - loss: 0.2476 - accuracy: 0.9085\n"
     ]
    }
   ],
   "source": [
    "test_loss, test_accuracy = model.evaluate(test_inputs, test_targets)"
   ]
  },
  {
   "cell_type": "code",
   "execution_count": 6,
   "metadata": {},
   "outputs": [
    {
     "name": "stdout",
     "output_type": "stream",
     "text": [
      "Test loss of the model: 0.25 \n",
      "Test accuracy of the model: 90.85%\n"
     ]
    }
   ],
   "source": [
    "print('Test loss of the model: {0:.2f} \\nTest accuracy of the model: {1:.2f}%'.format(test_loss, test_accuracy*100.))"
   ]
  },
  {
   "cell_type": "code",
   "execution_count": null,
   "metadata": {},
   "outputs": [],
   "source": []
  }
 ],
 "metadata": {
  "kernelspec": {
   "display_name": "Python 3",
   "language": "python",
   "name": "python3"
  },
  "language_info": {
   "codemirror_mode": {
    "name": "ipython",
    "version": 3
   },
   "file_extension": ".py",
   "mimetype": "text/x-python",
   "name": "python",
   "nbconvert_exporter": "python",
   "pygments_lexer": "ipython3",
   "version": "3.6.13"
  }
 },
 "nbformat": 4,
 "nbformat_minor": 2
}
